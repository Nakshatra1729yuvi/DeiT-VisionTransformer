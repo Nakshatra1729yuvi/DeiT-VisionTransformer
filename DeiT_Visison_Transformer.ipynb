{
  "nbformat": 4,
  "nbformat_minor": 0,
  "metadata": {
    "colab": {
      "provenance": [],
      "gpuType": "T4"
    },
    "kernelspec": {
      "name": "python3",
      "display_name": "Python 3"
    },
    "language_info": {
      "name": "python"
    },
    "accelerator": "GPU"
  },
  "cells": [
    {
      "cell_type": "code",
      "execution_count": 55,
      "metadata": {
        "id": "H_AEXuUWXNBD"
      },
      "outputs": [],
      "source": [
        "import torch\n",
        "import torch.nn as nn\n",
        "import torch.nn.functional as F\n",
        "import torchvision\n",
        "import torchvision.transforms as transforms\n",
        "import torch.optim as optim"
      ]
    },
    {
      "cell_type": "code",
      "source": [
        "batch_size = 64\n",
        "img_size = 32\n",
        "patch_size = 8\n",
        "num_channels = 3\n",
        "num_patches = (img_size // patch_size) ** 2\n",
        "num_heads = 24\n",
        "embed_dim = 768\n",
        "mlp_dim = 16\n",
        "transformer_units = 6"
      ],
      "metadata": {
        "id": "50sXGYRDaLLP"
      },
      "execution_count": 56,
      "outputs": []
    },
    {
      "cell_type": "code",
      "source": [
        "transform = transforms.Compose(\n",
        "    [transforms.ToTensor()])"
      ],
      "metadata": {
        "id": "1AlMS9v8vyFF"
      },
      "execution_count": 57,
      "outputs": []
    },
    {
      "cell_type": "code",
      "source": [
        "#load dataset\n",
        "trainset = torchvision.datasets.CIFAR10(root='./data', train=True,\n",
        "                                        download=True, transform=transform)\n",
        "valset = torchvision.datasets.CIFAR10(root='./data', train=False,\n",
        "                                        download=True, transform=transform)"
      ],
      "metadata": {
        "id": "1pcO-zPHvzf_"
      },
      "execution_count": 58,
      "outputs": []
    },
    {
      "cell_type": "code",
      "source": [
        "#create train and val batches\n",
        "train_data = torch.utils.data.DataLoader(trainset, batch_size=batch_size,\n",
        "                                          shuffle=True)\n",
        "val_data = torch.utils.data.DataLoader(valset, batch_size=batch_size,\n",
        "                                          shuffle=False)"
      ],
      "metadata": {
        "id": "imbG6_A2v1K6"
      },
      "execution_count": 59,
      "outputs": []
    },
    {
      "cell_type": "code",
      "source": [
        "class PatchEmbedding(nn.Module):\n",
        "  def __init__(self):\n",
        "    super().__init__()\n",
        "    self.proj=nn.Conv2d(num_channels,embed_dim,kernel_size=patch_size,stride=patch_size)\n",
        "  def forward(self,x):\n",
        "    x=self.proj(x)\n",
        "    x=x.flatten(2).transpose(1,2)\n",
        "    return x"
      ],
      "metadata": {
        "id": "yEbEDYLRwH70"
      },
      "execution_count": 60,
      "outputs": []
    },
    {
      "cell_type": "code",
      "source": [
        "class Block(nn.Module):\n",
        "  def __init__(self):\n",
        "    super().__init__()\n",
        "    self.ln1=nn.LayerNorm(embed_dim)\n",
        "    self.attn=nn.MultiheadAttention(embed_dim,num_heads,batch_first=True)\n",
        "    self.ln2=nn.LayerNorm(embed_dim)\n",
        "    self.ff=nn.Sequential(nn.Linear(embed_dim,4*embed_dim),nn.GELU(),nn.Linear(4*embed_dim,embed_dim))\n",
        "  def forward(self,x):\n",
        "    x=x+self.attn(self.ln1(x),self.ln1(x),self.ln1(x))[0]\n",
        "    x=x+self.ff(self.ln2(x))\n",
        "    return x"
      ],
      "metadata": {
        "id": "t-E7zrF52XdE"
      },
      "execution_count": 61,
      "outputs": []
    },
    {
      "cell_type": "code",
      "source": [
        "class DeiT(nn.Module):\n",
        "  def __init__(self):\n",
        "    super().__init__()\n",
        "    self.patch_embed=PatchEmbedding()\n",
        "    self.cls_token=nn.Parameter(torch.randn((1,1,embed_dim)))\n",
        "    self.dist_token=nn.Parameter(torch.randn((1,1,embed_dim)))\n",
        "    self.pos_embed=nn.Parameter(torch.randn((1,num_patches+2,embed_dim)))\n",
        "    self.blocks=nn.ModuleList([Block() for _ in range(transformer_units)])\n",
        "    self.norm=nn.LayerNorm(embed_dim)\n",
        "    self.cls_head=nn.Linear(embed_dim,10)\n",
        "    self.dist_head=nn.Linear(embed_dim,10)\n",
        "  def forward(self,x):\n",
        "    B=x.size(0)\n",
        "    x=self.patch_embed(x)\n",
        "    cls_token=self.cls_token.expand(B,-1,-1)\n",
        "    dist_token=self.dist_token.expand(B,-1,-1)\n",
        "    x=torch.cat((cls_token,dist_token,x),dim=1)\n",
        "    x=x+self.pos_embed\n",
        "    for block in self.blocks:\n",
        "      x=block(x)\n",
        "    x=self.norm(x)\n",
        "    cls_token=self.cls_head(x[:,0])\n",
        "    dist_token=self.dist_head(x[:,1])\n",
        "    return cls_token,dist_token\n",
        "\n"
      ],
      "metadata": {
        "id": "6UBks9T4GfoT"
      },
      "execution_count": 62,
      "outputs": []
    },
    {
      "cell_type": "code",
      "source": [
        "device = torch.device(\"cuda\" if torch.cuda.is_available() else \"cpu\")\n",
        "model = DeiT().to(device)\n",
        "optimizer = optim.AdamW(model.parameters(), lr=1e-4)\n",
        "criterion = nn.CrossEntropyLoss()"
      ],
      "metadata": {
        "id": "MLUyn6ZkEz9N"
      },
      "execution_count": 63,
      "outputs": []
    },
    {
      "cell_type": "code",
      "source": [
        "for epoch in range(5):\n",
        "    model.train()\n",
        "    total_loss = 0\n",
        "    correct_epoch = 0\n",
        "    total_epoch = 0\n",
        "    print(f\"\\nEpoch {epoch+1}\")\n",
        "\n",
        "    for batch_idx, (images, labels) in enumerate(train_data):\n",
        "        images, labels = images.to(device), labels.to(device)\n",
        "        optimizer.zero_grad()\n",
        "        cls_out, dist_out = model(images)\n",
        "        loss_cls = criterion(cls_out, labels)\n",
        "        loss_dist = criterion(dist_out, labels)\n",
        "        loss = 0.5 * loss_cls + 0.5 * loss_dist\n",
        "        loss.backward()\n",
        "        optimizer.step()\n",
        "\n",
        "        total_loss += loss.item()\n",
        "        preds = (cls_out+dist_out).argmax(dim=1)\n",
        "        correct = (preds == labels).sum().item()\n",
        "        correct_epoch += correct\n",
        "        total_epoch += labels.size(0)\n",
        "\n",
        "        if batch_idx % 100 == 0:\n",
        "            acc = 100.0 * correct / labels.size(0)\n",
        "            print(f\"  Batch {batch_idx+1:3d}: Loss={loss.item():.4f}, Accuracy={acc:.2f}%\")\n",
        "\n",
        "    epoch_acc = 100.0 * correct_epoch / total_epoch\n",
        "    print(f\"==> Epoch {epoch+1} Summary: Total Loss={total_loss:.4f}, Accuracy={epoch_acc:.2f}%\")\n"
      ],
      "metadata": {
        "colab": {
          "base_uri": "https://localhost:8080/"
        },
        "id": "PdwVUhzUFJUu",
        "outputId": "599b90da-196c-4b02-d840-92f8a0ec3376"
      },
      "execution_count": 64,
      "outputs": [
        {
          "output_type": "stream",
          "name": "stdout",
          "text": [
            "\n",
            "Epoch 1\n",
            "  Batch   1: Loss=2.6069, Accuracy=7.81%\n",
            "  Batch 101: Loss=2.0498, Accuracy=21.88%\n",
            "  Batch 201: Loss=1.8871, Accuracy=37.50%\n",
            "  Batch 301: Loss=2.0224, Accuracy=25.00%\n",
            "  Batch 401: Loss=1.9653, Accuracy=40.62%\n",
            "  Batch 501: Loss=1.8015, Accuracy=28.12%\n",
            "  Batch 601: Loss=1.4910, Accuracy=45.31%\n",
            "  Batch 701: Loss=1.5908, Accuracy=45.31%\n",
            "==> Epoch 1 Summary: Total Loss=1449.4591, Accuracy=32.38%\n",
            "\n",
            "Epoch 2\n",
            "  Batch   1: Loss=1.6271, Accuracy=42.19%\n",
            "  Batch 101: Loss=1.5591, Accuracy=40.62%\n",
            "  Batch 201: Loss=1.2982, Accuracy=50.00%\n",
            "  Batch 301: Loss=1.3152, Accuracy=51.56%\n",
            "  Batch 401: Loss=1.5943, Accuracy=39.06%\n",
            "  Batch 501: Loss=1.5530, Accuracy=40.62%\n",
            "  Batch 601: Loss=1.4504, Accuracy=42.19%\n",
            "  Batch 701: Loss=1.6334, Accuracy=39.06%\n",
            "==> Epoch 2 Summary: Total Loss=1161.5433, Accuracy=46.85%\n",
            "\n",
            "Epoch 3\n",
            "  Batch   1: Loss=1.3347, Accuracy=50.00%\n",
            "  Batch 101: Loss=1.3858, Accuracy=39.06%\n",
            "  Batch 201: Loss=1.3436, Accuracy=50.00%\n",
            "  Batch 301: Loss=1.6385, Accuracy=39.06%\n",
            "  Batch 401: Loss=1.4224, Accuracy=48.44%\n",
            "  Batch 501: Loss=1.5257, Accuracy=46.88%\n",
            "  Batch 601: Loss=1.5628, Accuracy=35.94%\n",
            "  Batch 701: Loss=1.3925, Accuracy=48.44%\n",
            "==> Epoch 3 Summary: Total Loss=1060.3704, Accuracy=51.65%\n",
            "\n",
            "Epoch 4\n",
            "  Batch   1: Loss=1.3606, Accuracy=51.56%\n",
            "  Batch 101: Loss=1.4798, Accuracy=45.31%\n",
            "  Batch 201: Loss=1.1512, Accuracy=56.25%\n",
            "  Batch 301: Loss=1.3724, Accuracy=46.88%\n",
            "  Batch 401: Loss=1.0560, Accuracy=59.38%\n",
            "  Batch 501: Loss=1.2539, Accuracy=57.81%\n",
            "  Batch 601: Loss=1.2750, Accuracy=62.50%\n",
            "  Batch 701: Loss=1.1780, Accuracy=57.81%\n",
            "==> Epoch 4 Summary: Total Loss=980.7298, Accuracy=55.21%\n",
            "\n",
            "Epoch 5\n",
            "  Batch   1: Loss=1.1451, Accuracy=62.50%\n",
            "  Batch 101: Loss=1.4304, Accuracy=50.00%\n",
            "  Batch 201: Loss=1.3041, Accuracy=50.00%\n",
            "  Batch 301: Loss=1.1835, Accuracy=56.25%\n",
            "  Batch 401: Loss=1.5139, Accuracy=46.88%\n",
            "  Batch 501: Loss=1.2617, Accuracy=53.12%\n",
            "  Batch 601: Loss=1.2913, Accuracy=57.81%\n",
            "  Batch 701: Loss=1.2634, Accuracy=56.25%\n",
            "==> Epoch 5 Summary: Total Loss=912.0426, Accuracy=58.49%\n"
          ]
        }
      ]
    },
    {
      "cell_type": "code",
      "source": [
        "model.eval()\n",
        "correct = 0\n",
        "total = 0\n",
        "with torch.no_grad():\n",
        "    for images, labels in val_data:\n",
        "        images, labels = images.to(device), labels.to(device)\n",
        "        cls_out, dist_out = model(images)\n",
        "        preds = (cls_out+dist_out).argmax(dim=1)\n",
        "        correct += (preds == labels).sum().item()\n",
        "        total += labels.size(0)\n",
        "\n",
        "test_acc = 100.0 * correct / total\n",
        "print(f\"\\n==> Val Accuracy: {test_acc:.2f}%\")"
      ],
      "metadata": {
        "colab": {
          "base_uri": "https://localhost:8080/"
        },
        "id": "nKCkiymPn2bg",
        "outputId": "89f5987c-7e94-481f-922e-a562be41ac6d"
      },
      "execution_count": 65,
      "outputs": [
        {
          "output_type": "stream",
          "name": "stdout",
          "text": [
            "\n",
            "==> Val Accuracy: 54.72%\n"
          ]
        }
      ]
    }
  ]
}